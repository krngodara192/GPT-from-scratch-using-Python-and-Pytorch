{
 "cells": [
  {
   "cell_type": "code",
   "execution_count": 68,
   "id": "34b4acbe-c2b6-4a10-9129-c530ed5e3fd2",
   "metadata": {},
   "outputs": [
    {
     "name": "stdout",
     "output_type": "stream",
     "text": [
      "cuda\n"
     ]
    }
   ],
   "source": [
    "import torch\n",
    "import torch.nn as nn\n",
    "import torch.nn.functional as F\n",
    "device = \"cuda\" if torch.cuda.is_available() else \"cpu\"\n",
    "print(device)\n",
    "block_size = 8\n",
    "batch_size = 4\n",
    "max_iters = 10000\n",
    "eval_iters = 250\n",
    "learning_rate = 3e-4"
   ]
  },
  {
   "cell_type": "code",
   "execution_count": 60,
   "id": "ba777ad8-3d73-4650-9b7a-3e27c18eccef",
   "metadata": {},
   "outputs": [
    {
     "name": "stdout",
     "output_type": "stream",
     "text": [
      "['\\n', ' ', '!', '\"', '&', \"'\", '(', ')', '*', ',', '-', '.', '0', '1', '2', '3', '4', '5', '6', '7', '8', '9', ':', ';', '?', 'A', 'B', 'C', 'D', 'E', 'F', 'G', 'H', 'I', 'J', 'K', 'L', 'M', 'N', 'O', 'P', 'Q', 'R', 'S', 'T', 'U', 'V', 'W', 'X', 'Y', 'Z', '[', ']', '_', 'a', 'b', 'c', 'd', 'e', 'f', 'g', 'h', 'i', 'j', 'k', 'l', 'm', 'n', 'o', 'p', 'q', 'r', 's', 't', 'u', 'v', 'w', 'x', 'y', 'z', '\\ufeff']\n"
     ]
    }
   ],
   "source": [
    "with open(\"D:\\LLM\\Documents\\wizard_of_oz.txt\", 'r', encoding= 'utf-8') as f:\n",
    "    text = f.read()\n",
    "\n",
    "chars = sorted(set(text))\n",
    "print(chars)\n",
    "vocabulary_size = len(chars)"
   ]
  },
  {
   "cell_type": "code",
   "execution_count": 61,
   "id": "3489d720-337b-45fe-ba07-4411c986c670",
   "metadata": {},
   "outputs": [
    {
     "name": "stdout",
     "output_type": "stream",
     "text": [
      "tensor([80, 44, 61,  ..., 67, 57,  0])\n"
     ]
    }
   ],
   "source": [
    "string_to_int = { ch:i for i,ch in enumerate(chars)}\n",
    "int_to_string = { i:ch for i,ch in enumerate(chars)}\n",
    "encode = lambda s: [string_to_int[c] for c in s]\n",
    "decode = lambda s: ''.join([int_to_string[c] for c in s])\n",
    "\n",
    "data = torch.tensor(encode(text), dtype=torch.long)\n",
    "print(data)\n"
   ]
  },
  {
   "cell_type": "code",
   "execution_count": 62,
   "id": "327838d1-13c1-4e6b-ab4a-768f4095b580",
   "metadata": {},
   "outputs": [],
   "source": [
    "n= int(0.8*len(data))\n",
    "train_data = data[:n]\n",
    "val_data = data[n:]\n",
    "\n",
    "def get_batch(split):\n",
    "    data = train_data if split==\"train\" else val_data\n",
    "    ix = torch.randint(len(data)-block_size,(batch_size,))\n",
    "    x = torch.stack([data[i:i+block_size] for i in ix])\n",
    "    y = torch.stack([data[i+1:i+block_size+1] for i in ix])\n",
    "\n",
    "    x,y = x.to(device), y.to(device)\n",
    "\n",
    "    return x,y"
   ]
  },
  {
   "cell_type": "code",
   "execution_count": 70,
   "id": "aba2dd9a-cbc7-4d62-b387-24df2e9d9f02",
   "metadata": {},
   "outputs": [],
   "source": [
    "@torch.no_grad()\n",
    "def estimate_loss():\n",
    "    out = {}\n",
    "    model.eval()\n",
    "    for split in ['train', 'val']:\n",
    "        losses = torch.zeros(eval_iters)\n",
    "        for k in range(eval_iters):\n",
    "            X,Y = get_batch(split)\n",
    "            logits,loss = model(X,Y)\n",
    "            losses[k] = loss.item()\n",
    "        out[split] = losses.mean()\n",
    "    model.train()\n",
    "    return out"
   ]
  },
  {
   "cell_type": "code",
   "execution_count": 71,
   "id": "ba7b6a38-1bdf-4855-8bd1-d69e00b7c630",
   "metadata": {},
   "outputs": [],
   "source": [
    "class BigramLanguageModel(nn.Module):\n",
    "    def __init__(self, vocab_size):\n",
    "        super().__init__()\n",
    "        self.token_embedding_table = nn.Embedding(vocab_size, vocab_size)\n",
    "    \n",
    "    def forward(self, index, targets=None):\n",
    "        logits = self.token_embedding_table(index)\n",
    "\n",
    "        \n",
    "\n",
    "        if targets == None:\n",
    "            loss = None\n",
    "        else:\n",
    "            B, T, C = logits.shape\n",
    "            logits = logits.view(B*T, C)\n",
    "            targets = targets.view(B*T)\n",
    "            loss = F.cross_entropy(logits, targets)\n",
    "\n",
    "        return logits, loss\n",
    "\n",
    "    def generate(self, index, max_new_tokens):\n",
    "        # index is (B,T) array of indices in current context\n",
    "        for _ in range(max_new_tokens):\n",
    "            #get the predictions\n",
    "            logits, loss = self.forward(index)\n",
    "            # focus only on last time step\n",
    "            logits = logits[:,-1,:] # becomes (B,C)\n",
    "            # get probablities using softmax\n",
    "            probs = F.softmax(logits, dim=-1)\n",
    "            # sample from the distribution\n",
    "            index_next = torch.multinomial(probs, num_samples=1) # (B,1)\n",
    "            # append sampled text into running sequence\n",
    "            index = torch.cat((index, index_next), dim=1) #(B,T+1)\n",
    "        return index\n",
    "\n",
    "model = BigramLanguageModel(vocabulary_size)\n",
    "m = model.to(device)"
   ]
  },
  {
   "cell_type": "code",
   "execution_count": 75,
   "id": "3207170e-88dc-41ab-8842-50c5dcac7fcd",
   "metadata": {},
   "outputs": [
    {
     "name": "stdout",
     "output_type": "stream",
     "text": [
      "Step: 0, train loss: 2.655 and val loss: 2.709\n",
      "Step: 250, train loss: 2.636 and val loss: 2.698\n",
      "Step: 500, train loss: 2.642 and val loss: 2.702\n",
      "Step: 750, train loss: 2.624 and val loss: 2.665\n",
      "Step: 1000, train loss: 2.627 and val loss: 2.692\n",
      "Step: 1250, train loss: 2.610 and val loss: 2.638\n",
      "Step: 1500, train loss: 2.611 and val loss: 2.681\n",
      "Step: 1750, train loss: 2.635 and val loss: 2.649\n",
      "Step: 2000, train loss: 2.596 and val loss: 2.651\n",
      "Step: 2250, train loss: 2.595 and val loss: 2.617\n",
      "Step: 2500, train loss: 2.594 and val loss: 2.624\n",
      "Step: 2750, train loss: 2.600 and val loss: 2.645\n",
      "Step: 3000, train loss: 2.602 and val loss: 2.638\n",
      "Step: 3250, train loss: 2.600 and val loss: 2.600\n",
      "Step: 3500, train loss: 2.589 and val loss: 2.593\n",
      "Step: 3750, train loss: 2.570 and val loss: 2.608\n",
      "Step: 4000, train loss: 2.567 and val loss: 2.613\n",
      "Step: 4250, train loss: 2.550 and val loss: 2.604\n",
      "Step: 4500, train loss: 2.575 and val loss: 2.611\n",
      "Step: 4750, train loss: 2.570 and val loss: 2.617\n",
      "Step: 5000, train loss: 2.569 and val loss: 2.601\n",
      "Step: 5250, train loss: 2.574 and val loss: 2.592\n",
      "Step: 5500, train loss: 2.549 and val loss: 2.582\n",
      "Step: 5750, train loss: 2.580 and val loss: 2.593\n",
      "Step: 6000, train loss: 2.558 and val loss: 2.587\n",
      "Step: 6250, train loss: 2.564 and val loss: 2.580\n",
      "Step: 6500, train loss: 2.529 and val loss: 2.590\n",
      "Step: 6750, train loss: 2.565 and val loss: 2.568\n",
      "Step: 7000, train loss: 2.553 and val loss: 2.604\n",
      "Step: 7250, train loss: 2.519 and val loss: 2.587\n",
      "Step: 7500, train loss: 2.561 and val loss: 2.595\n",
      "Step: 7750, train loss: 2.550 and val loss: 2.566\n",
      "Step: 8000, train loss: 2.531 and val loss: 2.593\n",
      "Step: 8250, train loss: 2.511 and val loss: 2.573\n",
      "Step: 8500, train loss: 2.525 and val loss: 2.562\n",
      "Step: 8750, train loss: 2.526 and val loss: 2.595\n",
      "Step: 9000, train loss: 2.522 and val loss: 2.573\n",
      "Step: 9250, train loss: 2.515 and val loss: 2.598\n",
      "Step: 9500, train loss: 2.488 and val loss: 2.557\n",
      "Step: 9750, train loss: 2.492 and val loss: 2.557\n",
      "2.5781798362731934\n"
     ]
    }
   ],
   "source": [
    "# Create an optimizer\n",
    "optimizer = torch.optim.AdamW(model.parameters(), lr=learning_rate)\n",
    "\n",
    "for iter in range(max_iters):\n",
    "\n",
    "    if iter% eval_iters==0:\n",
    "        losses = estimate_loss()\n",
    "        print(f\"Step: {iter}, train loss: {losses['train']:.3f} and val loss: {losses['val']:.3f}\")\n",
    "\n",
    "    xb, yb = get_batch('train')\n",
    "\n",
    "    #evaluate the loss\n",
    "    logits, loss = model.forward(xb, yb)\n",
    "    optimizer.zero_grad(set_to_none=True)\n",
    "    loss.backward()\n",
    "    optimizer.step()\n",
    "\n",
    "print(loss.item())"
   ]
  },
  {
   "cell_type": "markdown",
   "id": "d507ed93-af28-4867-8916-45942f2dd930",
   "metadata": {},
   "source": [
    "Torch features"
   ]
  },
  {
   "cell_type": "code",
   "execution_count": 76,
   "id": "87c949ec-8a81-4e9d-9e45-5d08ed51de59",
   "metadata": {},
   "outputs": [
    {
     "name": "stdout",
     "output_type": "stream",
     "text": [
      "\n",
      "p autoo rshas ll sssthizG2jCWin ten th'ttre   as se.\n",
      "t  sthe.\n",
      "xashan he en che\n",
      "J﻿95y, Whagufe WOn;q6xhe alp9kCurer Wil t L1mand-AK:CL atsas?\"\n",
      "\n",
      "n  orer P﻿y pe d  mson uis welly laneby anre  atedimindld sharmy, heneithabun th hen th fo k-Ded ctrche isee k  jXMysin arooted in';q[q_Oxplouth. B3F16lathed nd s uBNo bu C]L﻿Zd waparo ten d 1therow, won menthe s caly m firminin had wid hair!V28Qvestothy vee, t thy-Whe wis-PYedon\n",
      "\"N3xand ompor owhowe theand athy. herase t a me hs ofer\n",
      "Hmphergoway e as. I;\n"
     ]
    }
   ],
   "source": [
    "context = torch.zeros((1,1), dtype=torch.long, device= device)\n",
    "generated_chars = decode(m.generate(context, max_new_tokens=500)[0].tolist())\n",
    "print(generated_chars)"
   ]
  },
  {
   "cell_type": "code",
   "execution_count": null,
   "id": "d312c0c1-6490-40fd-9993-de95bf39e90d",
   "metadata": {},
   "outputs": [],
   "source": []
  }
 ],
 "metadata": {
  "kernelspec": {
   "display_name": "myenv-llm",
   "language": "python",
   "name": "myenv"
  },
  "language_info": {
   "codemirror_mode": {
    "name": "ipython",
    "version": 3
   },
   "file_extension": ".py",
   "mimetype": "text/x-python",
   "name": "python",
   "nbconvert_exporter": "python",
   "pygments_lexer": "ipython3",
   "version": "3.10.8"
  }
 },
 "nbformat": 4,
 "nbformat_minor": 5
}
