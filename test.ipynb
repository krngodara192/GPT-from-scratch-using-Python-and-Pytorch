{
 "cells": [
  {
   "cell_type": "markdown",
   "id": "2b7e0548-beb3-4274-bdc7-5d883fe99cf0",
   "metadata": {},
   "source": [
    "Topics:\n",
    "Optimizers - adam\n",
    "Decorators\n",
    "cross entropy\n",
    "norm layer pytorch\n",
    "auto tuning hyperparameters for best usage of resources\n",
    "Quantization\n",
    "k,q,v transformer all calculations\n",
    "gradient accumulations\n",
    "gradient decay and vanishing gradients\n",
    "Different text datasets - openweb, common crawl"
   ]
  },
  {
   "cell_type": "code",
   "execution_count": 2,
   "id": "7e424dac-33c5-4fe9-a0d4-dc3b8566cfd5",
   "metadata": {},
   "outputs": [],
   "source": [
    "import torch\n",
    "import torch.nn as nn\n",
    "import torch.nn.functional as F\n"
   ]
  },
  {
   "cell_type": "code",
   "execution_count": 10,
   "id": "d7ecda58-9cc7-4de0-b546-e613dcaf957c",
   "metadata": {},
   "outputs": [
    {
     "data": {
      "text/plain": [
       "tensor([0.5125])"
      ]
     },
     "execution_count": 10,
     "metadata": {},
     "output_type": "execute_result"
    }
   ],
   "source": [
    "x = torch.tensor([0.05])\n",
    "func_relu = nn.ReLU()\n",
    "func_sig = F.sigmoid(x)\n",
    "func_relu(x)\n",
    "func_sig"
   ]
  },
  {
   "cell_type": "code",
   "execution_count": null,
   "id": "65039676-217c-4b83-9f45-962fcd5f7e36",
   "metadata": {},
   "outputs": [],
   "source": []
  }
 ],
 "metadata": {
  "kernelspec": {
   "display_name": "myenv-llm",
   "language": "python",
   "name": "myenv"
  },
  "language_info": {
   "codemirror_mode": {
    "name": "ipython",
    "version": 3
   },
   "file_extension": ".py",
   "mimetype": "text/x-python",
   "name": "python",
   "nbconvert_exporter": "python",
   "pygments_lexer": "ipython3",
   "version": "3.10.8"
  }
 },
 "nbformat": 4,
 "nbformat_minor": 5
}
